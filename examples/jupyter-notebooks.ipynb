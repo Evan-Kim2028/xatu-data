{
 "cells": [
  {
   "cell_type": "markdown",
   "id": "ec243910",
   "metadata": {},
   "source": [
    "# Example `beacon_api_eth_v1_events_block` notebook\n",
    "This notebook allows for setting a date range at the top to download and analyze Parquet files for `beacon_api_eth_v1_events_block` data.\n",
    "\n",
    "```bash\n",
    "pip install pandas matplotlib\n",
    "```"
   ]
  },
  {
   "cell_type": "code",
   "execution_count": 228,
   "id": "76b502bc",
   "metadata": {},
   "outputs": [],
   "source": [
    "# Import necessary libraries\n",
    "import pandas as pd\n",
    "import matplotlib.pyplot as plt\n",
    "import requests\n",
    "from datetime import datetime, timedelta"
   ]
  },
  {
   "cell_type": "markdown",
   "id": "47914625",
   "metadata": {},
   "source": [
    "## Set Date Range\n",
    "Define the start and end dates for the analysis."
   ]
  },
  {
   "cell_type": "code",
   "execution_count": 229,
   "id": "fd7c3d24",
   "metadata": {},
   "outputs": [],
   "source": [
    "# Set the date range\n",
    "start_date = datetime(2024, 4, 1)\n",
    "end_date = datetime(2024, 4, 2)"
   ]
  },
  {
   "cell_type": "markdown",
   "id": "521f4161",
   "metadata": {},
   "source": [
    "## Generate URLs and Download Data\n",
    "Generate URLs for the date range and download the corresponding Parquet files."
   ]
  },
  {
   "cell_type": "code",
   "execution_count": 230,
   "id": "a7bbbe14",
   "metadata": {},
   "outputs": [
    {
     "name": "stdout",
     "output_type": "stream",
     "text": [
      "Downloading and loading: https://data.ethpandaops.io/xatu/mainnet/databases/default/beacon_api_eth_v1_events_block/2024/4/1.parquet\n",
      "Downloading and loading: https://data.ethpandaops.io/xatu/mainnet/databases/default/beacon_api_eth_v1_events_block/2024/4/2.parquet\n"
     ]
    }
   ],
   "source": [
    "# Function to generate dates\n",
    "def daterange(start_date, end_date):\n",
    "    for n in range(int((end_date - start_date).days) + 1):\n",
    "        yield start_date + timedelta(n)\n",
    "\n",
    "# Generate URLs without zero-padding month and day\n",
    "base_url = \"https://data.ethpandaops.io/xatu/mainnet/databases/default/beacon_api_eth_v1_events_block/\"\n",
    "urls = [f\"{base_url}{date.year}/{date.month}/{date.day}.parquet\" for date in daterange(start_date, end_date)]\n",
    "\n",
    "# Download, load, and concatenate Parquet data\n",
    "dfs = []\n",
    "for url in urls:\n",
    "    print(f\"Downloading and loading: {url}\")\n",
    "    r = requests.get(url)\n",
    "    with open('temp.parquet', 'wb') as f:\n",
    "        f.write(r.content)\n",
    "    df = pd.read_parquet('temp.parquet')\n",
    "    df['slot_start_date_time'] = pd.to_datetime(df['slot_start_date_time'], unit='s')\n",
    "    dfs.append(df)\n",
    "\n",
    "# Concatenate all DataFrames into a single one\n",
    "df_combined = pd.concat(dfs)\n"
   ]
  },
  {
   "cell_type": "markdown",
   "id": "fae29e6f",
   "metadata": {},
   "source": [
    "## Perform Analysis\n",
    "Calculate the median `propagation_slot_start_diff` per `slot_start_date_time` on the combined dataset."
   ]
  },
  {
   "cell_type": "code",
   "execution_count": 2,
   "id": "5c6925df",
   "metadata": {},
   "outputs": [
    {
     "ename": "NameError",
     "evalue": "name 'df' is not defined",
     "output_type": "error",
     "traceback": [
      "\u001b[0;31m---------------------------------------------------------------------------\u001b[0m",
      "\u001b[0;31mNameError\u001b[0m                                 Traceback (most recent call last)",
      "Cell \u001b[0;32mIn[2], line 2\u001b[0m\n\u001b[1;32m      1\u001b[0m \u001b[38;5;66;03m# Group by slot_start_date_time and calculate median propagation_slot_start_diff\u001b[39;00m\n\u001b[0;32m----> 2\u001b[0m grouped \u001b[38;5;241m=\u001b[39m \u001b[43mdf\u001b[49m\u001b[38;5;241m.\u001b[39mgroupby(\u001b[38;5;124m'\u001b[39m\u001b[38;5;124mslot_start_date_time\u001b[39m\u001b[38;5;124m'\u001b[39m)[\u001b[38;5;124m'\u001b[39m\u001b[38;5;124mpropagation_slot_start_diff\u001b[39m\u001b[38;5;124m'\u001b[39m]\u001b[38;5;241m.\u001b[39mmedian()\u001b[38;5;241m.\u001b[39mreset_index()\n\u001b[1;32m      4\u001b[0m \u001b[38;5;66;03m# Plotting\u001b[39;00m\n\u001b[1;32m      5\u001b[0m plt\u001b[38;5;241m.\u001b[39mfigure(figsize\u001b[38;5;241m=\u001b[39m(\u001b[38;5;241m10\u001b[39m, \u001b[38;5;241m6\u001b[39m))\n",
      "\u001b[0;31mNameError\u001b[0m: name 'df' is not defined"
     ]
    }
   ],
   "source": [
    "# Group by slot_start_date_time and calculate median propagation_slot_start_diff\n",
    "grouped = df_combined.groupby('slot_start_date_time')['propagation_slot_start_diff'].median().reset_index()\n",
    "\n",
    "# Plotting\n",
    "plt.figure(figsize=(10, 6))\n",
    "plt.plot(grouped['slot_start_date_time'], grouped['propagation_slot_start_diff'], marker='o')\n",
    "plt.title('Median Propagation Slot Start Difference by Slot Start DateTime')\n",
    "plt.xlabel('Slot Start DateTime')\n",
    "plt.ylabel('Median Propagation Slot Start Diff (ms)')\n",
    "plt.xticks(rotation=45)\n",
    "plt.grid(True)\n",
    "plt.show()"
   ]
  },
  {
   "cell_type": "code",
   "execution_count": null,
   "id": "e3d78673-03b8-403d-84c8-89061ad90d49",
   "metadata": {},
   "outputs": [],
   "source": []
  }
 ],
 "metadata": {
  "kernelspec": {
   "display_name": "Python 3 (ipykernel)",
   "language": "python",
   "name": "python3"
  },
  "language_info": {
   "codemirror_mode": {
    "name": "ipython",
    "version": 3
   },
   "file_extension": ".py",
   "mimetype": "text/x-python",
   "name": "python",
   "nbconvert_exporter": "python",
   "pygments_lexer": "ipython3",
   "version": "3.11.4"
  }
 },
 "nbformat": 4,
 "nbformat_minor": 5
}
